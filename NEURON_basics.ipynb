{
 "cells": [
  {
   "cell_type": "markdown",
   "metadata": {},
   "source": [
    "# Introduction\n",
    "This is a quick PL early tutorial to become familiar with NEURON using Python.  Objectives:<br>\n",
    "* Create a passive cell membrane in NEURON <br>\n",
    "* Create a synaptic stimulus into the neuron <br>\n",
    "* Modify parameters of the membrane and stimulus <br>\n",
    "* Visualise results with Matplotlib <br>\n",
    "\n",
    "This tutorial is based on https://neuron.yale.edu/neuron/static/docs/neuronpython/firststeps.html\n"
   ]
  },
  {
   "cell_type": "code",
   "execution_count": 2,
   "metadata": {},
   "outputs": [],
   "source": [
    "#Import key functions from NEURON (TEST note)\n",
    "from neuron import h, gui\n",
    "\n",
    "# h is the interface moduel between Python and NEURON\n",
    "# h provides both a direct interface into the NEURON library and function codebase and also an interface into NEuRON's other Interpreter language, hoc."
   ]
  },
  {
   "cell_type": "markdown",
   "metadata": {},
   "source": [
    "# Import the standard Python libraries\n"
   ]
  },
  {
   "cell_type": "code",
   "execution_count": 3,
   "metadata": {},
   "outputs": [],
   "source": [
    "# import numpy as np (not needed here)\n",
    "# import pandas as pd (not needed here)\n",
    "# pip install scikit-learn (not needed here)\n",
    "import matplotlib.pyplot as plt\n"
   ]
  },
  {
   "cell_type": "markdown",
   "metadata": {},
   "source": [
    "# Create a cell\n",
    "Create a basic model cell as a NEURON Section (The region of the neuron containing the nucleus is known as the cell body, soma, or perikaryon)."
   ]
  },
  {
   "cell_type": "code",
   "execution_count": 4,
   "metadata": {},
   "outputs": [],
   "source": [
    "soma = h.Section(name='soma')"
   ]
  },
  {
   "cell_type": "markdown",
   "metadata": {},
   "source": [
    "Need to see what has been created here.  Use the psection() (\"print section\") funtion"
   ]
  },
  {
   "cell_type": "code",
   "execution_count": 5,
   "metadata": {},
   "outputs": [
    {
     "name": "stdout",
     "output_type": "stream",
     "text": [
      "soma { nseg=1  L=100  Ra=35.4\n",
      "\t/*location 0 attached to cell 0*/\n",
      "\t/* First segment only */\n",
      "\tinsert morphology { diam=500}\n",
      "\tinsert capacitance { cm=1}\n",
      "}\n"
     ]
    },
    {
     "data": {
      "text/plain": [
       "1.0"
      ]
     },
     "execution_count": 5,
     "metadata": {},
     "output_type": "execute_result"
    }
   ],
   "source": [
    "h.psection()"
   ]
  },
  {
   "cell_type": "markdown",
   "metadata": {},
   "source": [
    "The results indicate that the soma is a cylinder with length 100 microns, diameter 500 microns, axial resistivity 35.4 ohm*centimetre and specific membrane capacitance 1uF/cm^2"
   ]
  },
  {
   "cell_type": "markdown",
   "metadata": {},
   "source": [
    "It is also possible to use Python's dir() function to investigate objects"
   ]
  },
  {
   "cell_type": "code",
   "execution_count": 6,
   "metadata": {},
   "outputs": [
    {
     "data": {
      "text/plain": [
       "['L',\n",
       " 'Ra',\n",
       " '__call__',\n",
       " '__class__',\n",
       " '__contains__',\n",
       " '__delattr__',\n",
       " '__dir__',\n",
       " '__doc__',\n",
       " '__eq__',\n",
       " '__format__',\n",
       " '__ge__',\n",
       " '__getattribute__',\n",
       " '__gt__',\n",
       " '__hash__',\n",
       " '__init__',\n",
       " '__init_subclass__',\n",
       " '__iter__',\n",
       " '__le__',\n",
       " '__lt__',\n",
       " '__module__',\n",
       " '__ne__',\n",
       " '__new__',\n",
       " '__reduce__',\n",
       " '__reduce_ex__',\n",
       " '__repr__',\n",
       " '__setattr__',\n",
       " '__sizeof__',\n",
       " '__str__',\n",
       " '__subclasshook__',\n",
       " 'allseg',\n",
       " 'arc3d',\n",
       " 'cell',\n",
       " 'children',\n",
       " 'connect',\n",
       " 'diam3d',\n",
       " 'disconnect',\n",
       " 'has_membrane',\n",
       " 'hname',\n",
       " 'hoc_internal_name',\n",
       " 'insert',\n",
       " 'is_pysec',\n",
       " 'n3d',\n",
       " 'name',\n",
       " 'nseg',\n",
       " 'orientation',\n",
       " 'parentseg',\n",
       " 'psection',\n",
       " 'pt3dadd',\n",
       " 'pt3dchange',\n",
       " 'pt3dclear',\n",
       " 'pt3dinsert',\n",
       " 'pt3dremove',\n",
       " 'pt3dstyle',\n",
       " 'push',\n",
       " 'rallbranch',\n",
       " 'same',\n",
       " 'spine3d',\n",
       " 'subtree',\n",
       " 'trueparentseg',\n",
       " 'uninsert',\n",
       " 'wholetree',\n",
       " 'x3d',\n",
       " 'y3d',\n",
       " 'z3d']"
      ]
     },
     "execution_count": 6,
     "metadata": {},
     "output_type": "execute_result"
    }
   ],
   "source": [
    "dir(soma)"
   ]
  },
  {
   "cell_type": "markdown",
   "metadata": {},
   "source": [
    "dir(soma) tells us all of the Python methods and variables associated with the object. Any methods with two leading and trailing underscores are reserved by Python and may or may not be implemented by the object. The other items in the list are additional members of soma that we can call. To see all of the functions available to the neuron variable h, we can call dir(h)."
   ]
  },
  {
   "cell_type": "code",
   "execution_count": 7,
   "metadata": {},
   "outputs": [
    {
     "data": {
      "text/plain": [
       "['APCount',\n",
       " 'AlphaSynapse',\n",
       " 'AtolTool',\n",
       " 'AtolToolItem',\n",
       " 'Avogadro_constant',\n",
       " 'BBSaveState',\n",
       " 'CVode',\n",
       " 'DEG',\n",
       " 'Deck',\n",
       " 'E',\n",
       " 'ExecCommand',\n",
       " 'Exp2Syn',\n",
       " 'ExpSyn',\n",
       " 'FARADAY',\n",
       " 'FInitializeHandler',\n",
       " 'Family',\n",
       " 'File',\n",
       " 'GAMMA',\n",
       " 'GUIMath',\n",
       " 'Glyph',\n",
       " 'Graph',\n",
       " 'HBox',\n",
       " 'IClamp',\n",
       " 'Impedance',\n",
       " 'Inserter',\n",
       " 'IntFire1',\n",
       " 'IntFire2',\n",
       " 'IntFire4',\n",
       " 'KSChan',\n",
       " 'KSGate',\n",
       " 'KSState',\n",
       " 'KSTrans',\n",
       " 'L',\n",
       " 'LinearMechanism',\n",
       " 'List',\n",
       " 'Matrix',\n",
       " 'MechanismStandard',\n",
       " 'MechanismType',\n",
       " 'MenuExplore',\n",
       " 'NEURONMainMenu',\n",
       " 'NetCon',\n",
       " 'NetStim',\n",
       " 'NumericalMethodPanel',\n",
       " 'OClamp',\n",
       " 'PHI',\n",
       " 'PI',\n",
       " 'PPShape',\n",
       " 'PWManager',\n",
       " 'ParallelContext',\n",
       " 'PatternStim',\n",
       " 'Plot',\n",
       " 'PlotShape',\n",
       " 'PointBrowser',\n",
       " 'PointProcessLocator',\n",
       " 'PointProcessManager',\n",
       " 'PointProcessMark',\n",
       " 'Pointer',\n",
       " 'PtrVector',\n",
       " 'PythonObject',\n",
       " 'R',\n",
       " 'Ra',\n",
       " 'Random',\n",
       " 'RangeVarPlot',\n",
       " 'SEClamp',\n",
       " 'SaveState',\n",
       " 'Section',\n",
       " 'SectionBrowser',\n",
       " 'SectionList',\n",
       " 'SectionRef',\n",
       " 'Shape',\n",
       " 'ShapeBrowser',\n",
       " 'ShapeLocation',\n",
       " 'SingleChan',\n",
       " 'StateTransitionEvent',\n",
       " 'String',\n",
       " 'StringFunctions',\n",
       " 'SymChooser',\n",
       " 'TQueue',\n",
       " 'TextEditor',\n",
       " 'Timer',\n",
       " 'VBox',\n",
       " 'VClamp',\n",
       " 'ValueFieldEditor',\n",
       " 'Vector',\n",
       " 'WinExec',\n",
       " 'WindowGroup',\n",
       " 'WindowGroupItem',\n",
       " 'WindowGroupManager',\n",
       " 'WindowMenu',\n",
       " '__abs__',\n",
       " '__add__',\n",
       " '__bool__',\n",
       " '__call__',\n",
       " '__class__',\n",
       " '__delattr__',\n",
       " '__delitem__',\n",
       " '__dir__',\n",
       " '__doc__',\n",
       " '__eq__',\n",
       " '__format__',\n",
       " '__ge__',\n",
       " '__getattribute__',\n",
       " '__getitem__',\n",
       " '__gt__',\n",
       " '__hash__',\n",
       " '__init__',\n",
       " '__init_subclass__',\n",
       " '__iter__',\n",
       " '__le__',\n",
       " '__len__',\n",
       " '__lt__',\n",
       " '__module__',\n",
       " '__mul__',\n",
       " '__ne__',\n",
       " '__neg__',\n",
       " '__new__',\n",
       " '__next__',\n",
       " '__pos__',\n",
       " '__radd__',\n",
       " '__reduce__',\n",
       " '__reduce_ex__',\n",
       " '__repr__',\n",
       " '__rmul__',\n",
       " '__rsub__',\n",
       " '__rtruediv__',\n",
       " '__setattr__',\n",
       " '__setitem__',\n",
       " '__setstate__',\n",
       " '__sizeof__',\n",
       " '__str__',\n",
       " '__sub__',\n",
       " '__subclasshook__',\n",
       " '__truediv__',\n",
       " '_pysec',\n",
       " 'abs',\n",
       " 'access',\n",
       " 'addplot',\n",
       " 'advance',\n",
       " 'allobjects',\n",
       " 'allobjectvars',\n",
       " 'allsec',\n",
       " 'arc3d',\n",
       " 'area',\n",
       " 'argtype',\n",
       " 'atan',\n",
       " 'atan2',\n",
       " 'attr_praxis',\n",
       " 'axis',\n",
       " 'baseattr',\n",
       " 'batch_run',\n",
       " 'batch_save',\n",
       " 'begintemplate',\n",
       " 'boolean_dialog',\n",
       " 'break',\n",
       " 'buildmenu',\n",
       " 'capacitance',\n",
       " 'cas',\n",
       " 'case',\n",
       " 'cbimportmenu',\n",
       " 'celsius',\n",
       " 'celsius_panel',\n",
       " 'channel_builder',\n",
       " 'chdir',\n",
       " 'checkpoint',\n",
       " 'clamp_resist',\n",
       " 'classname',\n",
       " 'clipboard_file',\n",
       " 'clipboard_get',\n",
       " 'clipboard_retrieve',\n",
       " 'clipboard_save',\n",
       " 'clipboard_set',\n",
       " 'cm',\n",
       " 'cnt',\n",
       " 'connect',\n",
       " 'continue',\n",
       " 'continue_dialog',\n",
       " 'continuerun',\n",
       " 'coredump_on_error',\n",
       " 'coreneuronrunning_',\n",
       " 'cos',\n",
       " 'create',\n",
       " 'cvode',\n",
       " 'cvode_active',\n",
       " 'cvode_local',\n",
       " 'cvode_simgraph',\n",
       " 'debug',\n",
       " 'default_dll_loaded_',\n",
       " 'define_shape',\n",
       " 'delete',\n",
       " 'delete_section',\n",
       " 'depvar',\n",
       " 'diam',\n",
       " 'diam3d',\n",
       " 'diam_changed',\n",
       " 'dik_dv_',\n",
       " 'dina_dv_',\n",
       " 'disconnect',\n",
       " 'distance',\n",
       " 'distmechmenu',\n",
       " 'distmechviewers',\n",
       " 'doEvents',\n",
       " 'doNotify',\n",
       " 'double',\n",
       " 'dt',\n",
       " 'e_extracellular',\n",
       " 'e_fastpas',\n",
       " 'e_pas',\n",
       " 'ek',\n",
       " 'el_hh',\n",
       " 'else',\n",
       " 'ena',\n",
       " 'endtemplate',\n",
       " 'eps_IntFire4',\n",
       " 'eqinit',\n",
       " 'eqn',\n",
       " 'erf',\n",
       " 'erfc',\n",
       " 'eventcount',\n",
       " 'eventslow',\n",
       " 'execerror',\n",
       " 'execute',\n",
       " 'execute1',\n",
       " 'exp',\n",
       " 'external',\n",
       " 'extracellular',\n",
       " 'fadvance',\n",
       " 'fast_flush_list',\n",
       " 'fastflushPlot',\n",
       " 'fastpas',\n",
       " 'fclamp',\n",
       " 'fclampi',\n",
       " 'fclampv',\n",
       " 'fcurrent',\n",
       " 'finitialize',\n",
       " 'fit_praxis',\n",
       " 'fittingmenu',\n",
       " 'float_epsilon',\n",
       " 'flushPlot',\n",
       " 'flush_list',\n",
       " 'fmatrix',\n",
       " 'fmenu',\n",
       " 'for',\n",
       " 'forall',\n",
       " 'forsec',\n",
       " 'fprint',\n",
       " 'frecord_init',\n",
       " 'fscan',\n",
       " 'fstim',\n",
       " 'fstimi',\n",
       " 'fsyn',\n",
       " 'fsyng',\n",
       " 'fsyni',\n",
       " 'func',\n",
       " 'g_fastpas',\n",
       " 'g_pas',\n",
       " 'getSpineArea',\n",
       " 'getcwd',\n",
       " 'getstr',\n",
       " 'ghk',\n",
       " 'gk_hh',\n",
       " 'gkbar_hh',\n",
       " 'gl_hh',\n",
       " 'global_ra',\n",
       " 'globalra_panel',\n",
       " 'gna_hh',\n",
       " 'gnabar_hh',\n",
       " 'graph',\n",
       " 'graphItem',\n",
       " 'graphList',\n",
       " 'graph_menu_remove_most',\n",
       " 'graphmenu',\n",
       " 'graphmode',\n",
       " 'h_hh',\n",
       " 'help',\n",
       " 'helpmenu',\n",
       " 'hh',\n",
       " 'hinf_hh',\n",
       " 'hname',\n",
       " 'hoc_ac_',\n",
       " 'hoc_cross_x_',\n",
       " 'hoc_cross_y_',\n",
       " 'hoc_obj_',\n",
       " 'hoc_pointer_',\n",
       " 'hoc_sf_',\n",
       " 'hoc_stdout',\n",
       " 'hocobjptr',\n",
       " 'htau_hh',\n",
       " 'i',\n",
       " 'i_cap',\n",
       " 'i_membrane',\n",
       " 'i_membrane_',\n",
       " 'i_pas',\n",
       " 'ib_IntFire4',\n",
       " 'if',\n",
       " 'ifsec',\n",
       " 'ik',\n",
       " 'il_hh',\n",
       " 'impedancemenu',\n",
       " 'ina',\n",
       " 'init',\n",
       " 'initPlot',\n",
       " 'initnrn',\n",
       " 'insert',\n",
       " 'install_vector_fitness',\n",
       " 'int',\n",
       " 'ion_charge',\n",
       " 'ion_register',\n",
       " 'ion_style',\n",
       " 'ismembrane',\n",
       " 'issection',\n",
       " 'iterator',\n",
       " 'iterator_statement',\n",
       " 'itmp',\n",
       " 'ivoc_style',\n",
       " 'j',\n",
       " 'k_ion',\n",
       " 'keep_nseg_parm',\n",
       " 'ki',\n",
       " 'ki0_k_ion',\n",
       " 'ko',\n",
       " 'ko0_k_ion',\n",
       " 'lambda_f',\n",
       " 'libpython_path',\n",
       " 'load_file',\n",
       " 'load_func',\n",
       " 'load_java',\n",
       " 'load_proc',\n",
       " 'load_template',\n",
       " 'local',\n",
       " 'localobj',\n",
       " 'log',\n",
       " 'log10',\n",
       " 'lw',\n",
       " 'm_hh',\n",
       " 'machine_name',\n",
       " 'makeFamily',\n",
       " 'makeMenuExplore',\n",
       " 'makePointBrowser',\n",
       " 'make_mechanism',\n",
       " 'make_pointprocess',\n",
       " 'makeinserter',\n",
       " 'makeppm',\n",
       " 'mapped_nrnmainmenu_',\n",
       " 'mcell_ran4',\n",
       " 'mcell_ran4_init',\n",
       " 'minf_hh',\n",
       " 'miscellaneousmenu',\n",
       " 'morphology',\n",
       " 'movie_frame_dur_',\n",
       " 'movie_timer',\n",
       " 'movierun',\n",
       " 'movierunbox',\n",
       " 'movierunpanel',\n",
       " 'movierunsave',\n",
       " 'moviestep',\n",
       " 'mtau_hh',\n",
       " 'n3d',\n",
       " 'n_graph_lists',\n",
       " 'n_hh',\n",
       " 'na_ion',\n",
       " 'nai',\n",
       " 'nai0_na_ion',\n",
       " 'name_declared',\n",
       " 'nao',\n",
       " 'nao0_na_ion',\n",
       " 'nernst',\n",
       " 'neuronhome',\n",
       " 'new',\n",
       " 'newPlot',\n",
       " 'newPlotI',\n",
       " 'newPlotS',\n",
       " 'newPlotV',\n",
       " 'newcommand',\n",
       " 'newphaseplane',\n",
       " 'newshapeplot',\n",
       " 'newvectorplot',\n",
       " 'ninf_hh',\n",
       " 'nlayer_extracellular',\n",
       " 'node_data',\n",
       " 'nrn_feenableexcept',\n",
       " 'nrn_load_dll',\n",
       " 'nrn_mallinfo',\n",
       " 'nrn_netrec_state_adjust',\n",
       " 'nrn_shape_changed_',\n",
       " 'nrn_sparse_partrans',\n",
       " 'nrnallpointmenu',\n",
       " 'nrnallsectionmenu',\n",
       " 'nrncontrolmenu',\n",
       " 'nrnglobalmechmenu',\n",
       " 'nrniv_bind_thread',\n",
       " 'nrnmainmenu',\n",
       " 'nrnmainmenu_',\n",
       " 'nrnmechmenu',\n",
       " 'nrnmpi_init',\n",
       " 'nrnpointmenu',\n",
       " 'nrnpython',\n",
       " 'nrnsecmenu',\n",
       " 'nrnunit_use_legacy',\n",
       " 'nrnversion',\n",
       " 'nseg',\n",
       " 'nstep_steprun',\n",
       " 'ntau_hh',\n",
       " 'numarg',\n",
       " 'numericalmethodpanel',\n",
       " 'obfunc',\n",
       " 'object_id',\n",
       " 'object_index',\n",
       " 'object_pop',\n",
       " 'object_push',\n",
       " 'object_pushed',\n",
       " 'objectvar',\n",
       " 'objref',\n",
       " 'parallel',\n",
       " 'parent_connection',\n",
       " 'parent_node',\n",
       " 'parent_section',\n",
       " 'pas',\n",
       " 'plot',\n",
       " 'plotx',\n",
       " 'ploty',\n",
       " 'plt',\n",
       " 'pointmenu',\n",
       " 'pointprocessesmenu',\n",
       " 'pop_section',\n",
       " 'print',\n",
       " 'print_session',\n",
       " 'printf',\n",
       " 'prjnrn',\n",
       " 'prmat',\n",
       " 'proc',\n",
       " 'prstim',\n",
       " 'psection',\n",
       " 'pt3dadd',\n",
       " 'pt3dchange',\n",
       " 'pt3dclear',\n",
       " 'pt3dconst',\n",
       " 'pt3dinsert',\n",
       " 'pt3dremove',\n",
       " 'pt3dstyle',\n",
       " 'public',\n",
       " 'push_section',\n",
       " 'pval_praxis',\n",
       " 'pwman_place',\n",
       " 'pyobj',\n",
       " 'quit',\n",
       " 'rallbranch',\n",
       " 'rates_hh',\n",
       " 'read',\n",
       " 'realtime',\n",
       " 'ref',\n",
       " 'regraph',\n",
       " 'retrieveaudit',\n",
       " 'return',\n",
       " 'ri',\n",
       " 'ropen',\n",
       " 'rtstart',\n",
       " 'run',\n",
       " 'runStopAt',\n",
       " 'runStopIn',\n",
       " 'runbutton',\n",
       " 'running_',\n",
       " 'same',\n",
       " 'save_session',\n",
       " 'saveaudit',\n",
       " 'screen_update',\n",
       " 'screen_update_invl',\n",
       " 'secname',\n",
       " 'secondorder',\n",
       " 'section_exists',\n",
       " 'section_orientation',\n",
       " 'section_owner',\n",
       " 'sectionname',\n",
       " 'setSpineArea',\n",
       " 'set_ra',\n",
       " 'set_v_init',\n",
       " 'setcolor',\n",
       " 'setdata_feature',\n",
       " 'setdata_hh',\n",
       " 'setdata_pas',\n",
       " 'setdt',\n",
       " 'setpointer',\n",
       " 'show_errmess_always',\n",
       " 'show_winio',\n",
       " 'sin',\n",
       " 'solve',\n",
       " 'spine3d',\n",
       " 'sprint',\n",
       " 'sqrt',\n",
       " 'sred',\n",
       " 'sscanf',\n",
       " 'startsw',\n",
       " 'stdinit',\n",
       " 'stdrun_quiet',\n",
       " 'step',\n",
       " 'steprun',\n",
       " 'steps_per_ms',\n",
       " 'stop',\n",
       " 'stop_praxis',\n",
       " 'stoppedrun',\n",
       " 'stoprun',\n",
       " 'stopsw',\n",
       " 'strcmp',\n",
       " 'strdef',\n",
       " 'string_dialog',\n",
       " 'symbols',\n",
       " 'system',\n",
       " 't',\n",
       " 'tanh',\n",
       " 'taueps_IntFire4',\n",
       " 'temp_string2_',\n",
       " 'temp_string_',\n",
       " 'tempobj',\n",
       " 'tempobj2',\n",
       " 'tempstr1',\n",
       " 'tempstr2',\n",
       " 'this_node',\n",
       " 'this_section',\n",
       " 'tobj',\n",
       " 'tobj1',\n",
       " 'toolmenu',\n",
       " 'topology',\n",
       " 'tstop',\n",
       " 'tstop_changed',\n",
       " 'tstr',\n",
       " 'uninsert',\n",
       " 'units',\n",
       " 'unix_mac_pc',\n",
       " 'use_mcell_ran4',\n",
       " 'usetable_hh',\n",
       " 'using_cvode_',\n",
       " 'v',\n",
       " 'v_init',\n",
       " 'valid_name_syntax',\n",
       " 'variable_domain',\n",
       " 'vectormenu',\n",
       " 'vext',\n",
       " 'vtrap_hh',\n",
       " 'while',\n",
       " 'windowmenu',\n",
       " 'wopen',\n",
       " 'x3d',\n",
       " 'xbutton',\n",
       " 'xc',\n",
       " 'xcheckbox',\n",
       " 'xfixedvalue',\n",
       " 'xg',\n",
       " 'xlabel',\n",
       " 'xmenu',\n",
       " 'xopen',\n",
       " 'xopen_broadcast_',\n",
       " 'xpanel',\n",
       " 'xpvalue',\n",
       " 'xradiobutton',\n",
       " 'xraxial',\n",
       " 'xred',\n",
       " 'xslider',\n",
       " 'xstatebutton',\n",
       " 'xvalue',\n",
       " 'xvarlabel',\n",
       " 'y3d',\n",
       " 'z3d']"
      ]
     },
     "execution_count": 7,
     "metadata": {},
     "output_type": "execute_result"
    }
   ],
   "source": [
    "dir(h)"
   ]
  },
  {
   "cell_type": "markdown",
   "metadata": {},
   "source": [
    "Objects can also be probed using 'help (object or variable)'.  For example (!):"
   ]
  },
  {
   "cell_type": "code",
   "execution_count": 8,
   "metadata": {},
   "outputs": [
    {
     "name": "stdout",
     "output_type": "stream",
     "text": [
      "No Python documentation found for 'APCount'.\n",
      "Use help() to get the interactive help utility.\n",
      "Use help(str) for help on the str class.\n",
      "\n"
     ]
    }
   ],
   "source": [
    "help('APCount')"
   ]
  },
  {
   "cell_type": "markdown",
   "metadata": {},
   "source": [
    "NEURON comes with built-in biophysical mechanisms that can be addred to a model: \n",
    "pas\tPassive (“leak”) channel.\n",
    "extracellular\tFor simulating effects of nonzero extracellular potential, as may happen with leaky patch clamps, or detailed propertes of the myelin sheath.\n",
    "hh\tHodgkin-Huxley sodium, potassium, and leakage channels. \n"
   ]
  },
  {
   "cell_type": "markdown",
   "metadata": {},
   "source": [
    "# Insert a passive mechanism\n",
    "We see from the list of elements after calling dir(soma) that insert is available. This is the method we will use to insert mechanisms into the membrane. Let’s insert a passive leak conductance across the membrane and do this by passing ‘pas’ as the mechanism type:"
   ]
  },
  {
   "cell_type": "code",
   "execution_count": 9,
   "metadata": {},
   "outputs": [
    {
     "data": {
      "text/plain": [
       "soma"
      ]
     },
     "execution_count": 9,
     "metadata": {},
     "output_type": "execute_result"
    }
   ],
   "source": [
    "soma.insert('pas')"
   ]
  },
  {
   "cell_type": "markdown",
   "metadata": {},
   "source": [
    "# Sections and segments\n",
    "A NEURON Section is considered a piece of cylindrical cable. Depending on the resolution desired, it may be necessary to divide the cable into a number of segments where voltage varies linearly between centers of adjacent segments. The number of segments within a section is given by the variable, nseg. The total ionic current across the segment membrane is approximately the area of the segment multiplied by the ionic current density at the center of the segment. To access a part of the section, specify a value between 0 and 1, where 0 is typically the end closest to the soma and 1 is the distal end. Because nseg divides the cable into equal-length parts, it should be an odd number so that to address the middle of the cable, (0.5), gives the middle segment.\n",
    "\n",
    "To summarize, we access sections by their name and segments by some location on the section.\n",
    "\n",
    "Section: section\n",
    "Segment: section(loc)\n",
    "Using the Python type() function can tell us what a variable is:"
   ]
  },
  {
   "cell_type": "code",
   "execution_count": 10,
   "metadata": {},
   "outputs": [
    {
     "name": "stdout",
     "output_type": "stream",
     "text": [
      "type(soma) = <class 'nrn.Section'>\n",
      "type(soma(0.5)) =<class 'nrn.Segment'>\n"
     ]
    }
   ],
   "source": [
    "print(\"type(soma) = {}\".format(type(soma)))\n",
    "print(\"type(soma(0.5)) ={}\".format(type(soma(0.5))))"
   ]
  },
  {
   "cell_type": "markdown",
   "metadata": {},
   "source": [
    "# Accessing segment variables\n",
    "Segment variables follow the format:\n",
    "\n",
    "section(loc).var\n",
    "And for mechanisms on the segment:\n",
    "\n",
    "section(loc).mech.var\n",
    "or\n",
    "\n",
    "section(loc).var_mech\n",
    "\n",
    "Use the first one for consistency.  Dots between parts."
   ]
  },
  {
   "cell_type": "code",
   "execution_count": 11,
   "metadata": {},
   "outputs": [
    {
     "name": "stdout",
     "output_type": "stream",
     "text": [
      "['__class__', '__delattr__', '__dir__', '__doc__', '__eq__', '__format__', '__ge__', '__getattribute__', '__gt__', '__hash__', '__init__', '__init_subclass__', '__iter__', '__le__', '__lt__', '__module__', '__ne__', '__new__', '__reduce__', '__reduce_ex__', '__repr__', '__setattr__', '__sizeof__', '__str__', '__subclasshook__', 'e', 'g', 'i', 'is_ion', 'name', 'segment']\n"
     ]
    }
   ],
   "source": [
    "mech = soma(0.5).pas\n",
    "print(dir(mech))"
   ]
  },
  {
   "cell_type": "code",
   "execution_count": 12,
   "metadata": {},
   "outputs": [
    {
     "name": "stdout",
     "output_type": "stream",
     "text": [
      "0.001\n",
      "0.001\n"
     ]
    }
   ],
   "source": [
    "print(mech.g)\n",
    "print(soma(0.5).pas.g)"
   ]
  },
  {
   "cell_type": "markdown",
   "metadata": {},
   "source": [
    "# Insert an alpha synapse\n",
    "Let’s insert an AlphaSynapse object onto the soma to induce some membrane dynamics.\n"
   ]
  },
  {
   "cell_type": "code",
   "execution_count": 13,
   "metadata": {},
   "outputs": [],
   "source": [
    "asyn = h.AlphaSynapse(soma(0.5))"
   ]
  },
  {
   "cell_type": "markdown",
   "metadata": {},
   "source": [
    "AlphaSynapse is a Point Process. Point processes are point sources of current. When making a new PointProcess, you pass the segment to which it will bind.\n",
    "\n",
    "Again, with dir() function, we can validate that asyn is an object and contains some useful parameters. Let’s look at some of those parameters."
   ]
  },
  {
   "cell_type": "code",
   "execution_count": 14,
   "metadata": {},
   "outputs": [
    {
     "data": {
      "text/plain": [
       "['__abs__',\n",
       " '__add__',\n",
       " '__bool__',\n",
       " '__call__',\n",
       " '__class__',\n",
       " '__delattr__',\n",
       " '__delitem__',\n",
       " '__dir__',\n",
       " '__doc__',\n",
       " '__eq__',\n",
       " '__format__',\n",
       " '__ge__',\n",
       " '__getattribute__',\n",
       " '__getitem__',\n",
       " '__gt__',\n",
       " '__hash__',\n",
       " '__init__',\n",
       " '__init_subclass__',\n",
       " '__iter__',\n",
       " '__le__',\n",
       " '__len__',\n",
       " '__lt__',\n",
       " '__module__',\n",
       " '__mul__',\n",
       " '__ne__',\n",
       " '__neg__',\n",
       " '__new__',\n",
       " '__next__',\n",
       " '__pos__',\n",
       " '__radd__',\n",
       " '__reduce__',\n",
       " '__reduce_ex__',\n",
       " '__repr__',\n",
       " '__rmul__',\n",
       " '__rsub__',\n",
       " '__rtruediv__',\n",
       " '__setattr__',\n",
       " '__setitem__',\n",
       " '__setstate__',\n",
       " '__sizeof__',\n",
       " '__str__',\n",
       " '__sub__',\n",
       " '__subclasshook__',\n",
       " '__truediv__',\n",
       " 'alpha',\n",
       " 'baseattr',\n",
       " 'e',\n",
       " 'get_loc',\n",
       " 'get_segment',\n",
       " 'gmax',\n",
       " 'has_loc',\n",
       " 'hname',\n",
       " 'hocobjptr',\n",
       " 'i',\n",
       " 'loc',\n",
       " 'onset',\n",
       " 'same',\n",
       " 'tau']"
      ]
     },
     "execution_count": 14,
     "metadata": {},
     "output_type": "execute_result"
    }
   ],
   "source": [
    "dir(asyn)"
   ]
  },
  {
   "cell_type": "code",
   "execution_count": 15,
   "metadata": {},
   "outputs": [
    {
     "name": "stdout",
     "output_type": "stream",
     "text": [
      "asyn.e = 0.0\n",
      "asyn.gmax = 0.0\n",
      "asyn.onset = 0.0\n",
      "asyn.tau = 0.1\n"
     ]
    }
   ],
   "source": [
    "print(\"asyn.e = {}\".format(asyn.e))\n",
    "print(\"asyn.gmax = {}\".format(asyn.gmax))\n",
    "print(\"asyn.onset = {}\".format(asyn.onset))\n",
    "print(\"asyn.tau = {}\".format(asyn.tau))"
   ]
  },
  {
   "cell_type": "markdown",
   "metadata": {},
   "source": [
    "Let’s assign the onset of this synapse to occur at 20 ms and the maximal conductance to 1."
   ]
  },
  {
   "cell_type": "code",
   "execution_count": 16,
   "metadata": {},
   "outputs": [],
   "source": [
    "asyn.onset = 20\n",
    "asyn.gmax = 1"
   ]
  },
  {
   "cell_type": "markdown",
   "metadata": {},
   "source": [
    "Now look at the state of the neuron usign the psection()"
   ]
  },
  {
   "cell_type": "code",
   "execution_count": 17,
   "metadata": {},
   "outputs": [
    {
     "name": "stdout",
     "output_type": "stream",
     "text": [
      "soma { nseg=1  L=100  Ra=35.4\n",
      "\t/*location 0 attached to cell 0*/\n",
      "\t/* First segment only */\n",
      "\tinsert morphology { diam=500}\n",
      "\tinsert capacitance { cm=1}\n",
      "\tinsert pas { g_pas=0.001 e_pas=-70}\n",
      "\tinsert AlphaSynapse { onset=20 tau=0.1 gmax=1 e=0}\n",
      "}\n"
     ]
    },
    {
     "data": {
      "text/plain": [
       "1.0"
      ]
     },
     "execution_count": 17,
     "metadata": {},
     "output_type": "execute_result"
    }
   ],
   "source": [
    "h.psection()"
   ]
  },
  {
   "cell_type": "markdown",
   "metadata": {},
   "source": [
    "# Set up recording variables.\n",
    "The cell should be configured to run a simulation. However, we need to set up variables we wish to record from the simulation. For now, we will record the membrane potential, which is soma(0.5).v. References to variables are available as _ref_rangevariable."
   ]
  },
  {
   "cell_type": "code",
   "execution_count": 18,
   "metadata": {},
   "outputs": [
    {
     "data": {
      "text/plain": [
       "Vector[4]"
      ]
     },
     "execution_count": 18,
     "metadata": {},
     "output_type": "execute_result"
    }
   ],
   "source": [
    "v_vec = h.Vector()             # Membrane potential vector\n",
    "t_vec = h.Vector()             # Time stamp vector\n",
    "v_vec.record(soma(0.5)._ref_v)\n",
    "t_vec.record(h._ref_t)"
   ]
  },
  {
   "cell_type": "markdown",
   "metadata": {},
   "source": [
    "# Run the simulation\n",
    "Execute the following"
   ]
  },
  {
   "cell_type": "code",
   "execution_count": 19,
   "metadata": {},
   "outputs": [
    {
     "data": {
      "text/plain": [
       "0.0"
      ]
     },
     "execution_count": 19,
     "metadata": {},
     "output_type": "execute_result"
    }
   ],
   "source": [
    "h.tstop = 40.0\n",
    "h.run()"
   ]
  },
  {
   "cell_type": "markdown",
   "metadata": {},
   "source": [
    "Note If we had not included gui in the list of things to import, we would have also had to execute:\n",
    "h.load_file('stdrun.hoc')\n",
    "which defines the run() function (the alternative would be to specify initialization and advance in more detail)."
   ]
  },
  {
   "cell_type": "markdown",
   "metadata": {},
   "source": [
    "# Plot the results\n",
    "Using matplotlib"
   ]
  },
  {
   "cell_type": "code",
   "execution_count": 20,
   "metadata": {},
   "outputs": [
    {
     "data": {
      "image/png": "[encoded data removed]",
      "text/plain": [
       "<Figure size 800x400 with 1 Axes>"
      ]
     },
     "metadata": {},
     "output_type": "display_data"
    }
   ],
   "source": [
    "from matplotlib import pyplot\n",
    "pyplot.figure(figsize=(8,4)) # Default figsize is (8,6)  - Why??\n",
    "pyplot.plot(t_vec, v_vec, color = 'purple', linewidth = 2)\n",
    "pyplot.xlabel('time (milliseconds)')\n",
    "pyplot.ylabel('milli-Volts')\n",
    "pyplot.show()"
   ]
  }
 ],
 "metadata": {
  "kernelspec": {
   "display_name": "Python 3 (ipykernel)",
   "language": "python",
   "name": "python3"
  },
  "language_info": {
   "codemirror_mode": {
    "name": "ipython",
    "version": 3
   },
   "file_extension": ".py",
   "mimetype": "text/x-python",
   "name": "python",
   "nbconvert_exporter": "python",
   "pygments_lexer": "ipython3",
   "version": "3.10.6"
  }
 },
 "nbformat": 4,
 "nbformat_minor": 2
}
