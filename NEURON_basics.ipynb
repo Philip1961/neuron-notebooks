{
 "cells": [
  {
   "cell_type": "markdown",
   "metadata": {},
   "source": [
    "# Introduction\n",
    "This is a quick PL early tutorial to become familiar with NEURON using Python.  Objectives:<br>\n",
    "* Create a passive cell membrane in NEURON <br>\n",
    "* Create a synaptic stimulus into the neuron <br>\n",
    "* Modify parameters of the membrane and stimulus <br>\n",
    "* Visualise results with Matplotlib <br>\n",
    "\n",
    "This tutorial is based on https://neuron.yale.edu/neuron/static/docs/neuronpython/firststeps.html\n"
   ]
  },
  {
   "cell_type": "code",
   "execution_count": 3,
   "metadata": {},
   "outputs": [],
   "source": [
    "#Import key functions from NEURON (TEST note)\n",
    "from neuron import h, gui\n",
    "\n",
    "# h is the interface moduel between Python and NEURON\n",
    "# h provides bOTH a direct interface inot the NEURON library and function codebase and also an interface into NEuRON's other Interpreter language, hoc."
   ]
  },
  {
   "cell_type": "markdown",
   "metadata": {},
   "source": [
    "# Import the standard Python libraries\n"
   ]
  },
  {
   "cell_type": "code",
   "execution_count": 5,
   "metadata": {},
   "outputs": [],
   "source": [
    "# import numpy as np (not needed here)\n",
    "# import pandas as pd (not needed here)\n",
    "import matplotlib.pyplot as plt\n"
   ]
  }
 ],
 "metadata": {
  "kernelspec": {
   "display_name": "Python 3 (ipykernel)",
   "language": "python",
   "name": "python3"
  },
  "language_info": {
   "codemirror_mode": {
    "name": "ipython",
    "version": 3
   },
   "file_extension": ".py",
   "mimetype": "text/x-python",
   "name": "python",
   "nbconvert_exporter": "python",
   "pygments_lexer": "ipython3",
   "version": "3.10.6"
  }
 },
 "nbformat": 4,
 "nbformat_minor": 2
}
